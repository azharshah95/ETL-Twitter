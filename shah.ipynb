{
 "cells": [
  {
   "cell_type": "markdown",
   "metadata": {},
   "source": [
    "#### IMPORT LIBRARIES"
   ]
  },
  {
   "cell_type": "code",
   "execution_count": 55,
   "metadata": {},
   "outputs": [],
   "source": [
    "import configparser\n",
    "from typing import List\n",
    "import tweepy\n",
    "import pandas as pd\n",
    "import psycopg2\n",
    "\n",
    "pd.options.mode.chained_assignment = None  # default='warn'"
   ]
  },
  {
   "cell_type": "markdown",
   "metadata": {},
   "source": [
    "#### READ CONFIG"
   ]
  },
  {
   "cell_type": "code",
   "execution_count": 2,
   "metadata": {},
   "outputs": [],
   "source": [
    "# read config \n",
    "config = configparser.ConfigParser()\n",
    "config.read('config.ini')\n",
    "\n",
    "# read Twitter Config\n",
    "CONSUMER_KEY = config['twitter']['CONSUMER_KEY']\n",
    "CONSUMER_SECRET = config['twitter']['CONSUMER_SECRET']\n",
    "ACCESS_TOKEN = config['twitter']['ACCESS_TOKEN']\n",
    "ACCESS_SECRET = config['twitter']['ACCESS_SECRET']\n",
    "\n",
    "LAST_TWEET_ID = config['filename']['LAST_TWEET_ID_FILENAME']\n",
    "\n",
    "# read database password\n",
    "DATABASE_PASSWORD = config['database']['DATABASE_PASSWORD']"
   ]
  },
  {
   "cell_type": "markdown",
   "metadata": {},
   "source": [
    "#### AUTHENTICATE TWITTER"
   ]
  },
  {
   "cell_type": "code",
   "execution_count": 3,
   "metadata": {},
   "outputs": [],
   "source": [
    "# authenticate\n",
    "auth = tweepy.OAuthHandler(CONSUMER_KEY, CONSUMER_SECRET)\n",
    "auth.set_access_token(ACCESS_TOKEN, ACCESS_SECRET)\n",
    "api = tweepy.API(auth)"
   ]
  },
  {
   "cell_type": "markdown",
   "metadata": {},
   "source": [
    "#### CONNECT DATABASE"
   ]
  },
  {
   "cell_type": "code",
   "execution_count": 4,
   "metadata": {},
   "outputs": [],
   "source": [
    "conn = psycopg2.connect(\"host=localhost dbname=tweets user=postgres password=example\")"
   ]
  },
  {
   "cell_type": "markdown",
   "metadata": {},
   "source": [
    "#### BUSINESS LOGIC"
   ]
  },
  {
   "cell_type": "code",
   "execution_count": 56,
   "metadata": {},
   "outputs": [
    {
     "data": {
      "text/html": [
       "<div>\n",
       "<style scoped>\n",
       "    .dataframe tbody tr th:only-of-type {\n",
       "        vertical-align: middle;\n",
       "    }\n",
       "\n",
       "    .dataframe tbody tr th {\n",
       "        vertical-align: top;\n",
       "    }\n",
       "\n",
       "    .dataframe thead th {\n",
       "        text-align: right;\n",
       "    }\n",
       "</style>\n",
       "<table border=\"1\" class=\"dataframe\">\n",
       "  <thead>\n",
       "    <tr style=\"text-align: right;\">\n",
       "      <th></th>\n",
       "      <th>created_at</th>\n",
       "      <th>id</th>\n",
       "      <th>full_text</th>\n",
       "      <th>username</th>\n",
       "      <th>handle</th>\n",
       "      <th>location</th>\n",
       "      <th>favorite_count</th>\n",
       "      <th>retweet_count</th>\n",
       "    </tr>\n",
       "  </thead>\n",
       "  <tbody>\n",
       "    <tr>\n",
       "      <th>0</th>\n",
       "      <td>Sun Feb 19 19:36:19 +0000 2023</td>\n",
       "      <td>1627391651470606339</td>\n",
       "      <td>RT @Newzroom405: Bulelani Qolani was dragged n...</td>\n",
       "      <td>JB_Maverick</td>\n",
       "      <td>JB49482674</td>\n",
       "      <td>Pretoria</td>\n",
       "      <td>0</td>\n",
       "      <td>6</td>\n",
       "    </tr>\n",
       "    <tr>\n",
       "      <th>1</th>\n",
       "      <td>Sun Feb 19 19:36:14 +0000 2023</td>\n",
       "      <td>1627391629328896000</td>\n",
       "      <td>RT @pfizer: For John Legend, there is nothing ...</td>\n",
       "      <td>Schnitz</td>\n",
       "      <td>TrudeauMustGooo</td>\n",
       "      <td></td>\n",
       "      <td>0</td>\n",
       "      <td>373</td>\n",
       "    </tr>\n",
       "    <tr>\n",
       "      <th>2</th>\n",
       "      <td>Sun Feb 19 19:36:05 +0000 2023</td>\n",
       "      <td>1627391590900633604</td>\n",
       "      <td>RT @WHOWPRO: #VaccinesWork to protect against ...</td>\n",
       "      <td>Donal BIsanzio</td>\n",
       "      <td>donal_bisanzio</td>\n",
       "      <td>Nottingham, England</td>\n",
       "      <td>0</td>\n",
       "      <td>12</td>\n",
       "    </tr>\n",
       "  </tbody>\n",
       "</table>\n",
       "</div>"
      ],
      "text/plain": [
       "                       created_at                   id  \\\n",
       "0  Sun Feb 19 19:36:19 +0000 2023  1627391651470606339   \n",
       "1  Sun Feb 19 19:36:14 +0000 2023  1627391629328896000   \n",
       "2  Sun Feb 19 19:36:05 +0000 2023  1627391590900633604   \n",
       "\n",
       "                                           full_text        username  \\\n",
       "0  RT @Newzroom405: Bulelani Qolani was dragged n...     JB_Maverick   \n",
       "1  RT @pfizer: For John Legend, there is nothing ...         Schnitz   \n",
       "2  RT @WHOWPRO: #VaccinesWork to protect against ...  Donal BIsanzio   \n",
       "\n",
       "            handle             location  favorite_count  retweet_count  \n",
       "0       JB49482674             Pretoria               0              6  \n",
       "1  TrudeauMustGooo                                    0            373  \n",
       "2   donal_bisanzio  Nottingham, England               0             12  "
      ]
     },
     "execution_count": 56,
     "metadata": {},
     "output_type": "execute_result"
    }
   ],
   "source": [
    "def get_tweets(keyword: str, lastTweetId) -> List[str]:\n",
    "  all_tweets = []\n",
    "\n",
    "  # for tweet in api.search_tweets(q=keyword, lang='en', count=10, result_type=\"mixed\", tweet_mode=\"extended\"):\n",
    "  for tweet in api.search_tweets(q=keyword, lang='en', count=10, result_type=\"mixed\", tweet_mode=\"extended\", since_id=lastTweetId):\n",
    "    all_tweets.append(tweet)\n",
    "  \n",
    "  return all_tweets\n",
    "\n",
    "# def getPremiumTweets(keyword: str) -> List[str]:\n",
    "#   premiumTweets = []\n",
    "#   for tweet in api.search_30_day(label=\"development\", query=keyword, maxResults=10):\n",
    "#     premiumTweets.append(tweet)\n",
    "#   return premiumTweets\n",
    "\n",
    "def parsingTweets(tweets: List) -> List[str]:\n",
    "  parsedTweets = []\n",
    "\n",
    "  for tweet in tweets:\n",
    "    parsedTweets.append({\n",
    "      \"created_at\": tweet._json[\"created_at\"],\n",
    "      \"id\": tweet._json[\"id\"],\n",
    "      \"full_text\": tweet._json[\"full_text\"],\n",
    "      \"username\": tweet._json[\"user\"][\"name\"],\n",
    "      \"handle\": tweet._json[\"user\"][\"screen_name\"],\n",
    "      \"location\": tweet._json[\"user\"][\"location\"],\n",
    "      \"favorite_count\": tweet._json[\"favorite_count\"],\n",
    "      \"retweet_count\": tweet._json[\"retweet_count\"]\n",
    "    })\n",
    "    \n",
    "  return parsedTweets\n",
    "\n",
    "\n",
    "def saveLastTweetId(tweets: List):\n",
    "  id = tweets[-1][\"id\"]\n",
    "\n",
    "  fileName = LAST_TWEET_ID\n",
    "  f = open(fileName, 'w+')\n",
    "  f.write(str(id))\n",
    "  f.close()\n",
    "  return None\n",
    "\n",
    "def readLastTweetId():\n",
    "  fileName = LAST_TWEET_ID\n",
    "  f = open(fileName, \"r\")\n",
    "  id = int(f.read())\n",
    "  return id\n",
    "\n",
    "tweets = get_tweets('covid19', readLastTweetId())\n",
    "parsedTweets = parsingTweets(tweets)\n",
    "saveLastTweetId(parsedTweets)\n",
    "\n",
    "tweetsDf = pd.DataFrame.from_dict(parsedTweets)\n",
    "headCount = 3\n",
    "# print(tweetsDf.head(10))\n",
    "tweetsDf.head(headCount)"
   ]
  },
  {
   "cell_type": "code",
   "execution_count": 57,
   "metadata": {},
   "outputs": [
    {
     "data": {
      "text/html": [
       "<div>\n",
       "<style scoped>\n",
       "    .dataframe tbody tr th:only-of-type {\n",
       "        vertical-align: middle;\n",
       "    }\n",
       "\n",
       "    .dataframe tbody tr th {\n",
       "        vertical-align: top;\n",
       "    }\n",
       "\n",
       "    .dataframe thead th {\n",
       "        text-align: right;\n",
       "    }\n",
       "</style>\n",
       "<table border=\"1\" class=\"dataframe\">\n",
       "  <thead>\n",
       "    <tr style=\"text-align: right;\">\n",
       "      <th></th>\n",
       "      <th>created_at</th>\n",
       "      <th>id</th>\n",
       "      <th>full_text</th>\n",
       "      <th>username</th>\n",
       "      <th>handle</th>\n",
       "      <th>location</th>\n",
       "      <th>favorite_count</th>\n",
       "      <th>retweet_count</th>\n",
       "      <th>dates_parsed</th>\n",
       "    </tr>\n",
       "  </thead>\n",
       "  <tbody>\n",
       "    <tr>\n",
       "      <th>0</th>\n",
       "      <td>Sun Feb 19 19:36:19 +0000 2023</td>\n",
       "      <td>1627391651470606339</td>\n",
       "      <td>RT @Newzroom405: Bulelani Qolani was dragged n...</td>\n",
       "      <td>JB_Maverick</td>\n",
       "      <td>JB49482674</td>\n",
       "      <td>Pretoria</td>\n",
       "      <td>0</td>\n",
       "      <td>6</td>\n",
       "      <td>2023-02-19 19:36:19+00:00</td>\n",
       "    </tr>\n",
       "    <tr>\n",
       "      <th>1</th>\n",
       "      <td>Sun Feb 19 19:36:14 +0000 2023</td>\n",
       "      <td>1627391629328896000</td>\n",
       "      <td>RT @pfizer: For John Legend, there is nothing ...</td>\n",
       "      <td>Schnitz</td>\n",
       "      <td>TrudeauMustGooo</td>\n",
       "      <td></td>\n",
       "      <td>0</td>\n",
       "      <td>373</td>\n",
       "      <td>2023-02-19 19:36:14+00:00</td>\n",
       "    </tr>\n",
       "    <tr>\n",
       "      <th>2</th>\n",
       "      <td>Sun Feb 19 19:36:05 +0000 2023</td>\n",
       "      <td>1627391590900633604</td>\n",
       "      <td>RT @WHOWPRO: #VaccinesWork to protect against ...</td>\n",
       "      <td>Donal BIsanzio</td>\n",
       "      <td>donal_bisanzio</td>\n",
       "      <td>Nottingham, England</td>\n",
       "      <td>0</td>\n",
       "      <td>12</td>\n",
       "      <td>2023-02-19 19:36:05+00:00</td>\n",
       "    </tr>\n",
       "  </tbody>\n",
       "</table>\n",
       "</div>"
      ],
      "text/plain": [
       "                       created_at                   id  \\\n",
       "0  Sun Feb 19 19:36:19 +0000 2023  1627391651470606339   \n",
       "1  Sun Feb 19 19:36:14 +0000 2023  1627391629328896000   \n",
       "2  Sun Feb 19 19:36:05 +0000 2023  1627391590900633604   \n",
       "\n",
       "                                           full_text        username  \\\n",
       "0  RT @Newzroom405: Bulelani Qolani was dragged n...     JB_Maverick   \n",
       "1  RT @pfizer: For John Legend, there is nothing ...         Schnitz   \n",
       "2  RT @WHOWPRO: #VaccinesWork to protect against ...  Donal BIsanzio   \n",
       "\n",
       "            handle             location  favorite_count  retweet_count  \\\n",
       "0       JB49482674             Pretoria               0              6   \n",
       "1  TrudeauMustGooo                                    0            373   \n",
       "2   donal_bisanzio  Nottingham, England               0             12   \n",
       "\n",
       "               dates_parsed  \n",
       "0 2023-02-19 19:36:19+00:00  \n",
       "1 2023-02-19 19:36:14+00:00  \n",
       "2 2023-02-19 19:36:05+00:00  "
      ]
     },
     "execution_count": 57,
     "metadata": {},
     "output_type": "execute_result"
    }
   ],
   "source": [
    "#TODO transform date from STR to Date object\n",
    "sampleTweets = tweetsDf.head(headCount)\n",
    "# sampleTweets['created_at'].dtype\n",
    "sampleTweets['dates_parsed'] = pd.to_datetime(sampleTweets['created_at'], format=\"%a %b %d %H:%M:%S %z %Y\")\n",
    "sampleTweets"
   ]
  }
 ],
 "metadata": {
  "kernelspec": {
   "display_name": "base",
   "language": "python",
   "name": "python3"
  },
  "language_info": {
   "codemirror_mode": {
    "name": "ipython",
    "version": 3
   },
   "file_extension": ".py",
   "mimetype": "text/x-python",
   "name": "python",
   "nbconvert_exporter": "python",
   "pygments_lexer": "ipython3",
   "version": "3.8.3"
  },
  "orig_nbformat": 4,
  "vscode": {
   "interpreter": {
    "hash": "7c1a10fa5139796b40da3d128fb23b2206fba7d4074600568ea664fd3ce0d76e"
   }
  }
 },
 "nbformat": 4,
 "nbformat_minor": 2
}
